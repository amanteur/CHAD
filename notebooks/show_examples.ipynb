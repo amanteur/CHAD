{
 "cells": [
  {
   "cell_type": "code",
   "execution_count": null,
   "metadata": {
    "collapsed": true
   },
   "outputs": [],
   "source": [
    "from pathlib import Path\n",
    "\n",
    "import pandas as pd\n",
    "from IPython.display import display, Audio"
   ]
  },
  {
   "cell_type": "code",
   "execution_count": null,
   "outputs": [],
   "source": [
    "DATASET_DIR: Path = Path('../chad_dataset/fragments')\n",
    "CSV_PATH: str = '../metadata/dataset.csv'\n",
    "AUDIO_EXT: str = '.wav'"
   ],
   "metadata": {
    "collapsed": false
   }
  },
  {
   "cell_type": "code",
   "execution_count": null,
   "outputs": [],
   "source": [
    "def is_downloaded(r: pd.Series) -> bool:\n",
    "    \"\"\"\n",
    "    Check if audio file corresponding to the DataFrame row is downloaded.\n",
    "\n",
    "    :param r: DataFrame row containing 'group_id', 'fragment_id', and 'id'.\n",
    "    :return: True if the audio file exists, False otherwise.\n",
    "    \"\"\"\n",
    "    path = (DATASET_DIR / r['group_id'] / str(r['fragment_id']) / str(r['id'])).with_suffix(AUDIO_EXT)\n",
    "    return path.is_file()\n",
    "\n",
    "def show_audio(r: pd.Series) -> None:\n",
    "    \"\"\"\n",
    "    Display the audio file corresponding to the DataFrame row.\n",
    "\n",
    "    :param r: DataFrame row containing 'group_id', 'fragment_id', and 'id'.\n",
    "    \"\"\"\n",
    "    path = (DATASET_DIR / r['group_id'] / str(r['fragment_id']) / str(r['id'])).with_suffix(AUDIO_EXT)\n",
    "    display(Audio(path))\n",
    "    return None\n",
    "\n",
    "def show_random_group(\n",
    "        n_examples: int = 3\n",
    "):\n",
    "    \"\"\"\n",
    "    Show random examples of downloaded audio files from the same group and fragment.\n",
    "\n",
    "    :param n_examples: Number of random examples to show.\n",
    "    :return: DataFrame containing the selected examples.\n",
    "    \"\"\"\n",
    "    df = pd.read_csv(CSV_PATH)\n",
    "    df['is_downloaded'] = df.apply(is_downloaded, axis=1)\n",
    "    df = df[df['is_downloaded']]\n",
    "\n",
    "    # Select a random group and fragment\n",
    "    random_group, random_fragment = df.sample()[['group_id', 'fragment_id']].values[0]\n",
    "\n",
    "    # Select examples from the same group and fragment\n",
    "    examples = df[\n",
    "        df['group_id'].eq(random_group) & df['fragment_id'].eq(random_fragment)\n",
    "    ]\n",
    "\n",
    "    # Sample n_examples random examples from the selected group and fragment\n",
    "    examples = examples.sample(min(examples.shape[0], n_examples))\n",
    "\n",
    "    print(f'GroupID: {random_group}. FragmentID: {random_fragment}')\n",
    "    for i, example in examples.iterrows():\n",
    "        show_audio(example)\n",
    "\n",
    "    return examples"
   ],
   "metadata": {
    "collapsed": false
   }
  },
  {
   "cell_type": "code",
   "execution_count": null,
   "outputs": [],
   "source": [
    "show_random_group(\n",
    "    n_examples=5\n",
    ")"
   ],
   "metadata": {
    "collapsed": false
   }
  },
  {
   "cell_type": "code",
   "execution_count": null,
   "outputs": [],
   "source": [],
   "metadata": {
    "collapsed": false
   }
  }
 ],
 "metadata": {
  "kernelspec": {
   "display_name": "Python 3",
   "language": "python",
   "name": "python3"
  },
  "language_info": {
   "codemirror_mode": {
    "name": "ipython",
    "version": 2
   },
   "file_extension": ".py",
   "mimetype": "text/x-python",
   "name": "python",
   "nbconvert_exporter": "python",
   "pygments_lexer": "ipython2",
   "version": "2.7.6"
  }
 },
 "nbformat": 4,
 "nbformat_minor": 0
}
